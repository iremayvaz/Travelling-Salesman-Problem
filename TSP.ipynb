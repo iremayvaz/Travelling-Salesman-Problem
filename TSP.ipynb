{
 "cells": [
  {
   "cell_type": "markdown",
   "id": "f4812ea6-0207-43bb-9de0-44dd285cabfa",
   "metadata": {},
   "source": [
    "- 2121221009 Nurgül ŞAHİN\n",
    "- 2221221024 Öykü Azra YILMAZ\n",
    "- 2221221046 İrem AYVAZ"
   ]
  },
  {
   "cell_type": "markdown",
   "id": "1492a4b3-14e6-4ceb-9cdc-0507c3e36fee",
   "metadata": {},
   "source": [
    "**Problem definition :** TSP (Traveling Salesman Problem)\n",
    "- Amaç: Tüm şehirleri bir kez ziyaret edip başlangıç noktasına dönecek en kısa rotayı bulmak\n",
    "- Girdi: Şehirler arası mesafe matrisi\n",
    "- Çıktı: Optimal/optimal-yakın rota ve toplam mesafe"
   ]
  },
  {
   "cell_type": "code",
   "execution_count": null,
   "id": "2ae15708-94c2-4ae4-ae66-fbe48897ae91",
   "metadata": {},
   "outputs": [],
   "source": [
    "import numpy as np\n",
    "import math\n",
    "import matplotlib.pyplot as plt\n",
    "from pathlib import Path\n",
    "import time\n",
    "import traceback\n",
    "import random\n",
    "from sklearn.model_selection import ParameterGrid\n",
    "\n",
    "random.seed(42)\n",
    "np.random.seed(42)"
   ]
  },
  {
   "cell_type": "markdown",
   "id": "128ad0a4-10ee-4ed4-a474-aee38d43d474",
   "metadata": {},
   "source": [
    "### Gerekli Sınıflar"
   ]
  },
  {
   "cell_type": "markdown",
   "id": "a6c5cab5-821f-4ce3-9e39-0e491c411238",
   "metadata": {},
   "source": [
    "- **CITY :**  Şehri temsil eder."
   ]
  },
  {
   "cell_type": "code",
   "execution_count": null,
   "id": "93184813-6046-4989-920d-f2e3c95ade8c",
   "metadata": {},
   "outputs": [],
   "source": [
    "class City:\n",
    "    def __init__(self, x, y):\n",
    "        self.x = x\n",
    "        self.y = y\n",
    "        \n",
    "    def __repr__(self):\n",
    "        return f\"City({self.x:.1f},{self.y:.1f})\"\n",
    "\n",
    "    def __str__(self):\n",
    "        return f\"({self.x:.1f}, {self.y:.1f})\"\n",
    "    \n",
    "    def print_info(self):\n",
    "        print(f\"City Coordinates: {self.x}, {self.y}\")"
   ]
  },
  {
   "cell_type": "markdown",
   "id": "78180c60-4b7e-4d61-9db2-19e580526383",
   "metadata": {},
   "source": [
    "- **INDIVIDUAL :** Bir çözümü(rotayı) temsil eder."
   ]
  },
  {
   "cell_type": "code",
   "execution_count": null,
   "id": "a89270be-eaea-480a-b973-a0ad5767afdb",
   "metadata": {},
   "outputs": [],
   "source": [
    "class Individual:\n",
    "    def __init__(self, tour_order=None):\n",
    "        self.tour_order = tour_order if tour_order else [] # şehir listesinin bir permütasyonu\n",
    "        self.fitness = None # az tur uzunluğu, iyi fitness\n",
    "        self.distance_value = None # toplam mesafe\n",
    "    \n",
    "    def calculate_distance(self, c1, c2): # şehirler arası uzaklık\n",
    "        return math.hypot(c1.x - c2.x, c1.y - c2.y)\n",
    "    \n",
    "    def calculate_fitness(self, distance_matrix=None): # toplam rota mesafesi (toplam alınan yol)\n",
    "        if self.fitness is not None: # fitness'ı zaten hesaplanmış\n",
    "            return self.fitness\n",
    "\n",
    "        if not self.tour_order or len(self.tour_order) == 0: # boş tour kontrolü\n",
    "            self.fitness = 0\n",
    "            self.distance_value = float('inf')\n",
    "            return self.fitness\n",
    "            \n",
    "        if distance_matrix is None:  \n",
    "            raise ValueError(\"Distance matrix gerekli! GA doğru initialize edilmedi.\")\n",
    "            \n",
    "        total_distance = 0\n",
    "        num_cities = len(self.tour_order)\n",
    "\n",
    "        for i in range(num_cities):\n",
    "            from_city = self.tour_order[i] # Başlangıçtan son şehre\n",
    "            to_city = self.tour_order[(i + 1) % num_cities]  # Son şehirden başlangıca\n",
    "            total_distance += distance_matrix[from_city][to_city]\n",
    "\n",
    "        \n",
    "        self.distance_value = total_distance\n",
    "        self.fitness = 1 / (total_distance + 1e-10)  # Küçük mesafe = yüksek fitness\n",
    "        return self.fitness\n",
    "\n",
    "    def get_total_distance(self): # Toplam mesafeyi döndür\n",
    "        return self.distance_value if self.distance_value is not None else float('inf')\n",
    "\n",
    "    def reset_fitness(self): # Fitness değerlerini sıfırla (mutation/crossover sonrası)\n",
    "        self.fitness = None\n",
    "        self.distance_value = None"
   ]
  },
  {
   "cell_type": "markdown",
   "id": "7a82e5f6-998f-4852-b7ed-1811130477fc",
   "metadata": {},
   "source": [
    "- **GENETIC ALGORITHM**"
   ]
  },
  {
   "cell_type": "code",
   "execution_count": null,
   "id": "2b765235-fb3d-4561-bb4a-242f21e2dc50",
   "metadata": {},
   "outputs": [],
   "source": [
    "class GA:\n",
    "    def __init__(self, cities, pop_size=100, termination=1000, \n",
    "                 crossover_rate=0.8, mutation_rate=0.02, elitism_rate=0.1, tournament_size=5):\n",
    "        self.cities = cities # şehir listesi\n",
    "        self.pop_size = pop_size # population size\n",
    "        self.population = []\n",
    "        self.termination = termination # Kaç nesil çalışacak?\n",
    "        self.crossover_rate = crossover_rate\n",
    "        self.mutation_rate = mutation_rate\n",
    "        self.elitism_count = int(pop_size * elitism_rate)\n",
    "        self.num_cities = len(cities)\n",
    "        self.tournament_size = tournament_size\n",
    "        \n",
    "        # Distance matrix oluştur\n",
    "        self.distance_matrix = DistanceMatrixCache.get_matrix(cities, self.num_cities)\n",
    "        \n",
    "        # GA state\n",
    "        self.population = []\n",
    "        self.generation = 0\n",
    "        self.best_distances = []\n",
    "        self.avg_distances = []\n",
    "\n",
    "    def initialize_population(self): # POP_SIZE KADAR RASTGELE ROTA OLUŞTURUR\n",
    "        for _ in range(self.pop_size):\n",
    "            tour = list(range(self.num_cities))  \n",
    "            random.shuffle(tour)   \n",
    "            \n",
    "            individual = Individual(tour)        \n",
    "            individual.calculate_fitness(self.distance_matrix) # HER ROTANIN FITNESS'I HESAPLANIR\n",
    "            self.population.append(individual)\n",
    "\n",
    "        self.population.sort(key=lambda x: x.get_total_distance()) # EN İYİ ROTADAN EN KÖTÜYE SIRALANIR\n",
    "        \n",
    "        best_distance = self.population[0].get_total_distance()\n",
    "        worst_distance = self.population[-1].get_total_distance()\n",
    "        avg_distance = sum(ind.get_total_distance() for ind in self.population) / len(self.population)\n",
    "        \n",
    "        print(f\"✅ İlk populasyon hazır:\")\n",
    "        print(f\"   En iyi: {best_distance:.2f}\")\n",
    "        print(f\"   En kötü: {worst_distance:.2f}\")\n",
    "        print(f\"   Ortalama: {avg_distance:.2f}\")\n",
    "        \n",
    "        return best_distance\n",
    "\n",
    "    def tournament_selection(self): # TOURNAMENT_SIZE KADAR RASTGELE BİREY ARASINDAN EN İYİYİ SEÇER\n",
    "        tournament_size = min(self.tournament_size, len(self.population))\n",
    "        tournament = random.sample(self.population, tournament_size)\n",
    "        return min(tournament, key=lambda x: x.get_total_distance())\n",
    "    \n",
    "    def crossover(self, parent1, parent2): # İKİ EBEVEYNDEN BİR ÇOCUK\n",
    "        size = len(parent1.tour_order)\n",
    "        \n",
    "        # rastgele 2 nokta seçilir\n",
    "        start, end = sorted(random.sample(range(size), 2)) \n",
    "        child_tour = [-1] * size # bu satır ne yapıyor?\n",
    "        child_tour[start:end] = parent1.tour_order[start:end]\n",
    "        \n",
    "        pointer = end\n",
    "        for city in parent2.tour_order[end:] + parent2.tour_order[:end]:\n",
    "            if city not in child_tour: # AVOID DUPLICATION\n",
    "                child_tour[pointer % size] = city\n",
    "                pointer += 1\n",
    "\n",
    "        child = Individual(child_tour)\n",
    "        child.calculate_fitness(self.distance_matrix)\n",
    "        \n",
    "        return child\n",
    "    \n",
    "    def mutate(self, individual): # İKİ RASTGELE ŞEHRİN YERİ DEĞİŞİR\n",
    "        tour = individual.tour_order.copy()\n",
    "        \n",
    "        i, j = random.sample(range(len(tour)), 2)\n",
    "        tour[i], tour[j] = tour[j], tour[i]\n",
    "        \n",
    "        mutated = Individual(tour)\n",
    "        mutated.calculate_fitness(self.distance_matrix)\n",
    "        return mutated\n",
    "        \n",
    "    def evolve_generation(self):\n",
    "        new_population = []\n",
    "        mutation_count = 0\n",
    "\n",
    "        new_population.extend(self.population[:self.elitism_count]) # en iyiler doğru bir şekilde aktarılıyor mu?\n",
    "\n",
    "        while len(new_population) < self.pop_size:\n",
    "             parent1 = self.tournament_selection()\n",
    "             parent2 = self.tournament_selection()\n",
    "    \n",
    "             if random.random() < self.crossover_rate:\n",
    "                 child = self.crossover(parent1, parent2)\n",
    "             else:\n",
    "                 # Crossover yapılmazsa parent1'i kopyala - MATRIX'İ BAĞLA!\n",
    "                child = Individual(parent1.tour_order.copy())\n",
    "                child.calculate_fitness(self.distance_matrix)\n",
    "             \n",
    "             if random.random() < self.mutation_rate:\n",
    "                child = self.mutate(child)\n",
    "                mutation_count += 1  # Mutation sayacı\n",
    "            \n",
    "             new_population.append(child)\n",
    "        \n",
    "        # Mutation istatistiği (debug için)\n",
    "        if self.generation % 100 == 0:\n",
    "            print(f\"   Nesil {self.generation}: {mutation_count} mutasyon yapıldı\")\n",
    "        \n",
    "        # Yeni populasyonu ata ve sırala\n",
    "        self.population = new_population\n",
    "        self.population.sort(key=lambda x: x.get_total_distance())\n",
    "        \n",
    "        # İstatistikleri güncelle\n",
    "        distances = [ind.get_total_distance() for ind in self.population]\n",
    "        self.best_distances.append(min(distances))\n",
    "        self.avg_distances.append(sum(distances) / len(distances))\n",
    "        \n",
    "        self.generation += 1\n",
    "        \n",
    "    def run(self):\n",
    "        print(f\"🧬 GA başlıyor ({self.termination} nesil)...\")\n",
    "        \n",
    "        t0 = time.perf_counter()\n",
    "        initial = self.initialize_population()\n",
    "        \n",
    "        for gen in range(self.termination):\n",
    "            self.evolve_generation()\n",
    "            \n",
    "            if gen % 100 == 0:\n",
    "                current_best = self.population[0].get_total_distance()\n",
    "                print(f\"   Nesil {gen}: En iyi = {current_best:.2f}\")\n",
    "                \n",
    "        t1 = time.perf_counter()\n",
    "        \n",
    "        # Final results\n",
    "        best_solution = self.population[0]\n",
    "        final_distance = best_solution.get_total_distance()\n",
    "        improvement = ((initial - final_distance) / initial) * 100\n",
    "        runtime = t1 - t0\n",
    "        \n",
    "        print(f\"\\n SONUÇLAR:\")\n",
    "        print(f\"   İlk en iyi : {initial:.2f}\")\n",
    "        print(f\"   Final en iyi : {final_distance:.2f}\")\n",
    "        print(f\"   İyileştirme : {improvement:.1f}%\")\n",
    "        print(f\"   En iyi rota : {best_solution.tour_order}\")\n",
    "        print(f\"   Runtime : {runtime:.4f} s\")\n",
    "        \n",
    "        return best_solution, runtime\n",
    "\n",
    "    def plot_convergence(self):\n",
    "        plt.figure(figsize=(10, 6))\n",
    "        plt.plot(self.best_distances, label='En İyi', color='red', linewidth=2)\n",
    "        plt.plot(self.avg_distances, label='Ortalama', color='blue', alpha=0.7)\n",
    "        plt.xlabel('Nesil')\n",
    "        plt.ylabel('Mesafe')\n",
    "        plt.title(f'{self.num_cities} Şehir - GA Convergence')\n",
    "        plt.legend()\n",
    "        plt.grid(True, alpha=0.3)\n",
    "        plt.show()\n",
    "\n",
    "    def plot_tour(self, individual=None):\n",
    "        if individual is None:\n",
    "            individual = self.population[0]\n",
    "        \n",
    "        plt.figure(figsize=(10, 8))\n",
    "        \n",
    "        # Cities\n",
    "        x_coords = [city.x for city in self.cities]\n",
    "        y_coords = [city.y for city in self.cities]\n",
    "        plt.scatter(x_coords, y_coords, c='red', s=100, zorder=5)\n",
    "        \n",
    "        # City numbers\n",
    "        for i, city in enumerate(self.cities):\n",
    "            plt.annotate(str(i), (city.x, city.y), xytext=(5, 5), \n",
    "                        textcoords='offset points', fontsize=12)\n",
    "        \n",
    "        # Route\n",
    "        route_x = [self.cities[city_idx].x for city_idx in individual.tour_order]\n",
    "        route_y = [self.cities[city_idx].y for city_idx in individual.tour_order]\n",
    "        route_x.append(route_x[0])  # Return to start\n",
    "        route_y.append(route_y[0])\n",
    "        \n",
    "        plt.plot(route_x, route_y, 'b-', alpha=0.7, linewidth=2)\n",
    "        plt.title(f'{self.num_cities} Şehir - En İyi Rota (Mesafe: {individual.get_total_distance():.2f})')\n",
    "        plt.xlabel('X Koordinatı')\n",
    "        plt.ylabel('Y Koordinatı')\n",
    "        plt.grid(True, alpha=0.3)\n",
    "        plt.show()"
   ]
  },
  {
   "cell_type": "markdown",
   "id": "f380233a-ae0b-48f9-a89d-8472781f4a3d",
   "metadata": {},
   "source": [
    "- **MATRIX CACHE :** 2 şehir arası uzaklığı her seferinde hesaplamak yerine rotadaki tüm ikili eşleşmeler tek seferde hesaplanıp matriste tutulur."
   ]
  },
  {
   "cell_type": "code",
   "execution_count": null,
   "id": "b561795b-0b50-46f4-8df7-e91dcc402a33",
   "metadata": {},
   "outputs": [],
   "source": [
    "class DistanceMatrixCache:\n",
    "    _cache = {}  # Class-level cache\n",
    "                 # Not be needed to create an object (instance)\n",
    "    \n",
    "    @classmethod\n",
    "    def get_matrix(cls, cities, num): # matris varsa onu alır yoksa oluşturur\n",
    "        if num in cls._cache: # cache'te var\n",
    "            return cls._cache[num]\n",
    "        \n",
    "        matrix = cls.create_distance_matrix(cities) # cache'te yok oluştur\n",
    "        cls._cache[num] = matrix\n",
    "        return matrix\n",
    "    \n",
    "    @classmethod\n",
    "    def create_distance_matrix(cls, cities):\n",
    "        temp_individual = Individual()\n",
    "        num_cities = len(cities)\n",
    "        \n",
    "        matrix = [[temp_individual.calculate_distance(cities[i], cities[j]) \n",
    "                  for j in range(num_cities)] \n",
    "                  for i in range(num_cities)]\n",
    "        \n",
    "        return matrix\n",
    "    \n",
    "    @classmethod\n",
    "    def clear_cache(cls):\n",
    "        cls._cache.clear()\n",
    "    \n",
    "    @classmethod\n",
    "    def cache_info(cls):\n",
    "        for i, num_cities in enumerate(cls._cache.keys()):\n",
    "            print(f\"   {i+1}. {num_cities} şehirli matrix\")"
   ]
  },
  {
   "cell_type": "markdown",
   "id": "71627b3e-6439-4189-8c48-4607052d0310",
   "metadata": {},
   "source": [
    "### Dosyadan veri okuma"
   ]
  },
  {
   "cell_type": "code",
   "execution_count": null,
   "id": "76ed4085-f467-4195-b2ae-6c507b90bbd5",
   "metadata": {},
   "outputs": [],
   "source": [
    "def read_files():\n",
    "    cities_dict = {}\n",
    "    data_path = Path(\"Data\")\n",
    "\n",
    "    if not data_path.exists():\n",
    "        print(\"Data klasörü bulunamadı!\")\n",
    "        return cities_dict\n",
    "    \n",
    "    for path in data_path.iterdir():\n",
    "        if path.is_file() and path.name.startswith(\"tsp_\"):\n",
    "            print(path.name)\n",
    "            try:\n",
    "                with open(path, 'r') as file: # otomatik file.close() yapar\n",
    "\n",
    "                    cities = []\n",
    "                \n",
    "                    try:\n",
    "                        for line in file.readlines()[1:]: #2. satırdan itibaren okumaya başla\n",
    "                            city_info = line.split()\n",
    "                            city = City(float(city_info[0]), float(city_info[1]))\n",
    "                            cities.append(city)\n",
    "                    except ValueError as e:\n",
    "                        print(\"Satır okunamadı.\")\n",
    "                    \n",
    "                    cities_dict[len(cities)] = cities\n",
    "                \n",
    "\n",
    "            except Exception as e:\n",
    "                print(f\"{path.name} okunamadı\")\n",
    "    return cities_dict"
   ]
  },
  {
   "cell_type": "code",
   "execution_count": null,
   "id": "9019aca7-7c84-4013-8d87-3bfb97672805",
   "metadata": {},
   "outputs": [],
   "source": [
    "cities = read_files()\n",
    "print(cities)"
   ]
  },
  {
   "cell_type": "markdown",
   "id": "f74b1b21-660d-4b18-ab26-e3c647ab57a4",
   "metadata": {},
   "source": [
    "### ARRANGE THE CITY-LIST SIZES FOR TSP"
   ]
  },
  {
   "cell_type": "code",
   "execution_count": null,
   "id": "f48c58fd-1fae-4922-bf5b-6b9c4063b9c9",
   "metadata": {},
   "outputs": [],
   "source": [
    "min_size = 0\n",
    "avg_size = 0\n",
    "max_size = 0\n",
    "\n",
    "if 'cities' in globals() and cities:\n",
    "    available_sizes = sorted(cities.keys())\n",
    "    print(f\"Available city list sizes: {available_sizes}\")\n",
    "\n",
    "    min_size = min(available_sizes) #   5 şehirli liste\n",
    "    avg_size = available_sizes[1]   #  70 şehirli liste\n",
    "    max_size = max(available_sizes) # 100 şehirli liste\n",
    "    \n",
    "    print(f\"There are {min_size}, {avg_size}, {max_size} cities problems\")\n",
    "\n",
    "else:\n",
    "    print(\"cities dict bulunamadı!\")\n",
    "    print(\"Önce şunu çalıştır: cities = read_files()\")"
   ]
  },
  {
   "cell_type": "markdown",
   "id": "3e23ef45-bb47-432a-9757-84e406cd7f28",
   "metadata": {},
   "source": [
    "### Try GA - Method"
   ]
  },
  {
   "cell_type": "code",
   "execution_count": 39,
   "id": "30022434-825a-49ee-a418-c239f2095102",
   "metadata": {},
   "outputs": [],
   "source": [
    "def try_ga(cities):\n",
    "    try:\n",
    "        ga = GA(cities=cities, pop_size=50, termination=200)\n",
    "        \n",
    "        best_solution, best_runtime = ga.run()\n",
    "        \n",
    "        print(f\"En iyi mesafe: {best_solution.get_total_distance():.2f}\")\n",
    "\n",
    "        print(\"📉 Yakınsama grafiği çiziliyor...\")\n",
    "        ga.plot_convergence()\n",
    "               \n",
    "        print(\"🗺️ Route grafiği çiziliyor...\")\n",
    "        ga.plot_tour()\n",
    "        \n",
    "    except Exception as e:\n",
    "        print(f\"❌ Gerçek veri hatası: {e}\")\n",
    "        traceback.print_exc()"
   ]
  },
  {
   "cell_type": "markdown",
   "id": "925c478f-3b2a-43f3-be22-1f6c1e01d91a",
   "metadata": {},
   "source": [
    "### Start GA - Method"
   ]
  },
  {
   "cell_type": "code",
   "execution_count": null,
   "id": "c3d88965-208f-41ce-be1d-015605db04f8",
   "metadata": {},
   "outputs": [],
   "source": [
    "def start_ga(cities, param_grid):\n",
    "    try:\n",
    "        best_score = float('inf')\n",
    "        best_runtime = float('inf')\n",
    "        best_params = None\n",
    "        best_individual = None\n",
    "        best_ga = None\n",
    "\n",
    "        for params in ParameterGrid(param_grid):\n",
    "            print(\"Test ediliyor:\", params)\n",
    "            ga = GA(cities=cities, **params)\n",
    "            best_individual, runtime = ga.run()\n",
    "            best_distance = best_individual.get_total_distance()\n",
    "\n",
    "            if best_distance < best_score or (best_distance == best_score and runtime < best_runtime):\n",
    "                best_score = best_distance\n",
    "                best_runtime = runtime\n",
    "                best_params = params.copy()\n",
    "                best_individual = best_individual\n",
    "                best_ga = ga\n",
    "\n",
    "        print(f\"✅ {len(cities)} şehirli en iyi skor: {best_score}\")\n",
    "        print(f\"🎯 {len(cities)} şehirli en iyi parametre: {best_params}\")\n",
    "        print(f\"🧭 {len(cities)} şehirli en iyi runtime: {best_runtime}\")\n",
    "        print(f\"🗺️ {len(cities)} şehirli en iyi rota grafiği:\")\n",
    "        best_ga.plot_tour(best_individual)\n",
    "\n",
    "        print(f\"📉 {len(cities)} şehirli yakınsama grafiği: \")\n",
    "        best_ga.plot_convergence()\n",
    "\n",
    "    except Exception as e:\n",
    "        print(f\"❌ Gerçek veri hatası: {e}\")\n",
    "        traceback.print_exc()"
   ]
  },
  {
   "cell_type": "markdown",
   "id": "24aca25c-43b2-4296-aadf-9928cfe49c26",
   "metadata": {},
   "source": [
    "### 5-Cities TSP"
   ]
  },
  {
   "cell_type": "code",
   "execution_count": null,
   "id": "4d851fac-0790-4085-a935-296ef2b7dbe4",
   "metadata": {},
   "outputs": [],
   "source": [
    "try_ga(cities[min_size])"
   ]
  },
  {
   "cell_type": "markdown",
   "id": "a34cccfc-d94a-4327-bd83-df935b91358c",
   "metadata": {},
   "source": [
    "### GridSearch for 5-cities TSP"
   ]
  },
  {
   "cell_type": "code",
   "execution_count": null,
   "id": "a52796ae-df1d-49a1-84a3-90428ad10521",
   "metadata": {},
   "outputs": [],
   "source": [
    "param_grid = {\n",
    "    'mutation_rate': [0.01, 0.02],\n",
    "    'termination': [50, 100, 200], \n",
    "    'pop_size': [50, 100, 200],\n",
    "    'crossover_rate': [0.1, 0.5, 0.8],\n",
    "    'elitism_rate': [0.05, 0.1],\n",
    "    'tournament_size': [3, 5]\n",
    "}\n",
    "\n",
    "start_ga(cities[min_size], param_grid)"
   ]
  },
  {
   "cell_type": "markdown",
   "id": "c08d6678-953c-4612-aa20-f5d0b3f7e2e6",
   "metadata": {},
   "source": [
    "For 5-cities TSP, best parameters;\n",
    "- crossover_rate = 0.1\n",
    "- elitism_rate = 0.1\n",
    "- mutation_rate = 0.01\n",
    "- pop_size = 50,\n",
    "- termination = 100, \n",
    "- tournament_size = 3"
   ]
  },
  {
   "cell_type": "markdown",
   "id": "8d1ec57a-887e-4ec6-bd4b-ad0c00a1dc2e",
   "metadata": {},
   "source": [
    "### 70-Cities TSP"
   ]
  },
  {
   "cell_type": "code",
   "execution_count": null,
   "id": "00f422cb-0ceb-44a3-bc9f-2e92425b1773",
   "metadata": {},
   "outputs": [],
   "source": [
    "try_ga(cities[avg_size])"
   ]
  },
  {
   "cell_type": "code",
   "execution_count": null,
   "id": "29f016f4-c5fe-4399-b369-5cd5331745fe",
   "metadata": {},
   "outputs": [],
   "source": []
  },
  {
   "cell_type": "markdown",
   "id": "d252d380-ca36-4dcb-892c-10d5c95c0310",
   "metadata": {},
   "source": [
    "### GridSearch for 70-cities TSP"
   ]
  },
  {
   "cell_type": "code",
   "execution_count": null,
   "id": "66154cd2-f178-4788-838d-ae6d21706145",
   "metadata": {},
   "outputs": [],
   "source": [
    "param_grid = {\n",
    "    'mutation_rate': [0.01, 0.02, 0.05],\n",
    "    'termination': [200, 500, 1000], \n",
    "    'pop_size': [100, 1000, 5000],\n",
    "    'crossover_rate': [0.1, 0.5, 0.8],\n",
    "    'elitism_rate': [0.05, 0.1],\n",
    "    'tournament_size': [3, 5]\n",
    "}\n",
    "\n",
    "start_ga(cities[avg_size], param_grid)"
   ]
  },
  {
   "cell_type": "markdown",
   "id": "8c7d7170-c2d8-4162-bbc1-c92ebff5cfee",
   "metadata": {},
   "source": [
    "For 70-cities TSP, best parameters;\n",
    "- mutation_rate = 0.05\n",
    "- termination = 500, \n",
    "- pop_size = 5000, \n",
    "- crossover_rate = 0.8\n",
    "- elitism_rate = 0.1\n",
    "- tournament_size = 3"
   ]
  },
  {
   "cell_type": "markdown",
   "id": "8a802dcc-a307-400c-90d8-ae95327cd3a9",
   "metadata": {},
   "source": [
    "### 100-Cities TSP"
   ]
  },
  {
   "cell_type": "code",
   "execution_count": null,
   "id": "c992077e-0731-48e0-b607-fd64cdd2546a",
   "metadata": {},
   "outputs": [],
   "source": [
    "try_ga(cities[max_size])"
   ]
  },
  {
   "cell_type": "markdown",
   "id": "4fc8b0f7-2c3c-4dc0-ac59-840dc353e473",
   "metadata": {},
   "source": [
    "### GridSearch for 100-cities TSP"
   ]
  },
  {
   "cell_type": "code",
   "execution_count": null,
   "id": "825ba2b5-57e0-462a-977a-03f969042e18",
   "metadata": {},
   "outputs": [],
   "source": [
    "param_grid = {\n",
    "    'mutation_rate': [0.01, 0.02, 0.05],\n",
    "    'termination': [200, 500, 1000], \n",
    "    'pop_size': [100, 1000, 5000],\n",
    "    'crossover_rate': [0.1, 0.5, 0.8],\n",
    "    'elitism_rate': [0.05, 0.1],\n",
    "    'tournament_size': [3, 5]\n",
    "}\n",
    "\n",
    "start_ga(cities[max_size], param_grid)"
   ]
  },
  {
   "cell_type": "markdown",
   "id": "157767f7-ea07-4314-ad73-d92fa7b6bea4",
   "metadata": {},
   "source": [
    "For 100-cities TSP, best parameters;\n",
    "- mutation_rate = 0.02\n",
    "- termination = 500, \n",
    "- pop_size = 5000, \n",
    "- crossover_rate = 0.8\n",
    "- elitism_rate = 0.1\n",
    "- tournament_size = 3"
   ]
  }
 ],
 "metadata": {
  "kernelspec": {
   "display_name": "Python [conda env:base] *",
   "language": "python",
   "name": "conda-base-py"
  },
  "language_info": {
   "codemirror_mode": {
    "name": "ipython",
    "version": 3
   },
   "file_extension": ".py",
   "mimetype": "text/x-python",
   "name": "python",
   "nbconvert_exporter": "python",
   "pygments_lexer": "ipython3",
   "version": "3.12.7"
  }
 },
 "nbformat": 4,
 "nbformat_minor": 5
}
